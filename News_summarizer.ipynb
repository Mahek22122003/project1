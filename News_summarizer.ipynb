{
  "nbformat": 4,
  "nbformat_minor": 0,
  "metadata": {
    "colab": {
      "provenance": [],
      "authorship_tag": "ABX9TyO5GLOw2j2W74iKjqC2uX6p",
      "include_colab_link": true
    },
    "kernelspec": {
      "name": "python3",
      "display_name": "Python 3"
    },
    "language_info": {
      "name": "python"
    }
  },
  "cells": [
    {
      "cell_type": "markdown",
      "metadata": {
        "id": "view-in-github",
        "colab_type": "text"
      },
      "source": [
        "<a href=\"https://colab.research.google.com/github/Mahek22122003/project1/blob/main/News_summarizer.ipynb\" target=\"_parent\"><img src=\"https://colab.research.google.com/assets/colab-badge.svg\" alt=\"Open In Colab\"/></a>"
      ]
    },
    {
      "cell_type": "code",
      "execution_count": null,
      "metadata": {
        "colab": {
          "base_uri": "https://localhost:8080/"
        },
        "id": "RPPtvTiEcUiG",
        "outputId": "6cce3c90-4118-4e35-fbec-4edb7bb9228e"
      },
      "outputs": [
        {
          "output_type": "stream",
          "name": "stdout",
          "text": [
            "\u001b[2K     \u001b[90m━━━━━━━━━━━━━━━━━━━━━━━━━━━━━━━━━━━━━━━━\u001b[0m \u001b[32m44.3/44.3 kB\u001b[0m \u001b[31m2.1 MB/s\u001b[0m eta \u001b[36m0:00:00\u001b[0m\n",
            "\u001b[2K   \u001b[90m━━━━━━━━━━━━━━━━━━━━━━━━━━━━━━━━━━━━━━━━\u001b[0m \u001b[32m9.9/9.9 MB\u001b[0m \u001b[31m64.4 MB/s\u001b[0m eta \u001b[36m0:00:00\u001b[0m\n",
            "\u001b[2K   \u001b[90m━━━━━━━━━━━━━━━━━━━━━━━━━━━━━━━━━━━━━━━━\u001b[0m \u001b[32m6.9/6.9 MB\u001b[0m \u001b[31m63.4 MB/s\u001b[0m eta \u001b[36m0:00:00\u001b[0m\n",
            "\u001b[2K   \u001b[90m━━━━━━━━━━━━━━━━━━━━━━━━━━━━━━━━━━━━━━━━\u001b[0m \u001b[32m79.1/79.1 kB\u001b[0m \u001b[31m4.2 MB/s\u001b[0m eta \u001b[36m0:00:00\u001b[0m\n",
            "\u001b[?25h"
          ]
        }
      ],
      "source": [
        "!pip install streamlit transformers pyngrok --quiet"
      ]
    },
    {
      "cell_type": "code",
      "source": [
        "!ngrok config add-authtoken 2wtWmsW2NNluI26irIh3y1ya7Xb_4CZU2CZAVN1Q5ekRJ5UPw"
      ],
      "metadata": {
        "colab": {
          "base_uri": "https://localhost:8080/"
        },
        "id": "U8O9tU7LclgG",
        "outputId": "8e9b67c8-00d4-44c9-c0fd-f756aa7acdfb"
      },
      "execution_count": null,
      "outputs": [
        {
          "output_type": "stream",
          "name": "stdout",
          "text": [
            "Authtoken saved to configuration file: /root/.config/ngrok/ngrok.yml\n"
          ]
        }
      ]
    },
    {
      "cell_type": "code",
      "source": [
        "%%writefile app.py\n",
        "import streamlit as st\n",
        "from transformers import pipeline, AutoTokenizer\n",
        "\n",
        "# Load tokenizer to count tokens properly\n",
        "tokenizer = AutoTokenizer.from_pretrained(\"google/pegasus-xsum\")\n",
        "\n",
        "# Set page config\n",
        "st.set_page_config(page_title=\"📰 News Summarizer\", layout=\"wide\")\n",
        "\n",
        "# Inject custom CSS for styling\n",
        "st.markdown(\"\"\"\n",
        "<style>\n",
        "    .headline-box {\n",
        "        background: linear-gradient(90deg, #4b6cb7 0%, #182848 100%);\n",
        "        padding: 20px;\n",
        "        border-radius: 10px;\n",
        "        color: white;\n",
        "        font-size: 22px;\n",
        "        font-weight: bold;\n",
        "        margin-bottom: 20px;\n",
        "    }\n",
        "    .bullet-point {\n",
        "        background-color: #f1f3f6;\n",
        "        color: #000000;\n",
        "        padding: 10px;\n",
        "        border-radius: 8px;\n",
        "        margin-bottom: 8px;\n",
        "        font-size: 16px;\n",
        "    }\n",
        "    .summary-box {\n",
        "        background-color: #e3f2fd;\n",
        "        padding: 15px;\n",
        "        border-radius: 8px;\n",
        "        color: #333;\n",
        "        font-size: 17px;\n",
        "    }\n",
        "    .section-header {\n",
        "        font-size: 24px;\n",
        "        margin-top: 30px;\n",
        "        color: ##0000FF;\n",
        "        font-weight: 700;\n",
        "    }\n",
        "</style>\n",
        "\"\"\", unsafe_allow_html=True)\n",
        "\n",
        "# Load NLP models once\n",
        "@st.cache_resource\n",
        "def load_pipelines():\n",
        "    summarizer = pipeline(\"summarization\", model=\"facebook/bart-large-cnn\")\n",
        "    headline_gen = pipeline(\"summarization\", model=\"google/pegasus-xsum\")\n",
        "    return summarizer, headline_gen\n",
        "\n",
        "summarizer, headline_gen = load_pipelines()\n",
        "\n",
        "# Summarization logic\n",
        "def summarize_article(text):\n",
        "    chunks = [text[i:i+1000] for i in range(0, len(text), 1000)]\n",
        "    summary = \"\"\n",
        "    for chunk in chunks:\n",
        "        out = summarizer(chunk, max_length=130, min_length=30, do_sample=False)\n",
        "        summary += out[0]['summary_text'] + \" \"\n",
        "    return summary.strip()\n",
        "\n",
        "def generate_headline(text, max_input_tokens=512):\n",
        "    text = text.strip()\n",
        "    if not text:\n",
        "        return \"No headline generated (empty article).\"\n",
        "\n",
        "    # Tokenize and truncate the input\n",
        "    inputs = tokenizer.encode(text, truncation=True, max_length=max_input_tokens, return_tensors=\"pt\")\n",
        "    decoded_input = tokenizer.decode(inputs[0], skip_special_tokens=True)\n",
        "\n",
        "    # Generate headline\n",
        "    result = headline_gen(decoded_input, max_length=15, min_length=5, do_sample=False)\n",
        "\n",
        "    return result[0]['summary_text']\n",
        "\n",
        "def extract_subpoints(summary):\n",
        "    sentences = summary.split('. ')\n",
        "    return [s.strip() for s in sentences if s][:5]\n",
        "\n",
        "# Sidebar info\n",
        "with st.sidebar:\n",
        "    st.image(\"https://img.icons8.com/color/96/news.png\", width=80)\n",
        "    st.markdown(\"## 📰 News Summarizer\")\n",
        "    st.markdown(\"\"\"\n",
        "    This app takes a news article and generates:\n",
        "    - 🏷️ A headline\n",
        "    - 📌 Bullet points\n",
        "    - 📝 A summary paragraph\n",
        "    \"\"\")\n",
        "    st.markdown(\"---\")\n",
        "    st.caption(\"Made by Mahek Singhal\")\n",
        "\n",
        "# App title\n",
        "st.markdown(\"<h1 style='text-align: center; color: #4b6cb7;'>✨ News Summarizer & Headline Generator</h1>\", unsafe_allow_html=True)\n",
        "st.markdown(\"---\")\n",
        "\n",
        "# Text input\n",
        "article = st.text_area(\"✍️ Paste your news article below:\", height=300)\n",
        "st.caption(f\"📝 Word Count: {len(article.split())}\")\n",
        "\n",
        "# Generate button\n",
        "if st.button(\"🚀 Generate Summary\"):\n",
        "    if len(article.split()) < 30:\n",
        "        st.warning(\"Please enter at least 30 words.\")\n",
        "    else:\n",
        "        with st.spinner(\"Analyzing and summarizing...\"):\n",
        "            headline = generate_headline(article)\n",
        "            summary = summarize_article(article)\n",
        "            subpoints = extract_subpoints(summary)\n",
        "\n",
        "        # Headline\n",
        "        st.markdown(\"<div class='section-header'>🗞️ Generated Headline</div>\", unsafe_allow_html=True)\n",
        "        st.markdown(f\"<div class='headline-box'>{headline}</div>\", unsafe_allow_html=True)\n",
        "\n",
        "        # Bullet Points\n",
        "        st.markdown(\"<div class='section-header'>📌 Key Points</div>\", unsafe_allow_html=True)\n",
        "        for pt in subpoints:\n",
        "            st.markdown(f\"<div class='bullet-point'>🔹 {pt}</div>\", unsafe_allow_html=True)\n",
        "\n",
        "        # Summary\n",
        "        st.markdown(\"<div class='section-header'>📝 Summary Paragraph</div>\", unsafe_allow_html=True)\n",
        "        st.markdown(f\"<div class='summary-box'>{summary}</div>\", unsafe_allow_html=True)"
      ],
      "metadata": {
        "colab": {
          "base_uri": "https://localhost:8080/"
        },
        "id": "X6FU7Dj_ctQw",
        "outputId": "d836fcee-515c-4761-92ef-85bd55746f2c"
      },
      "execution_count": null,
      "outputs": [
        {
          "output_type": "stream",
          "name": "stdout",
          "text": [
            "Overwriting app.py\n"
          ]
        }
      ]
    },
    {
      "cell_type": "code",
      "source": [
        "from pyngrok import ngrok\n",
        "\n",
        "ngrok.kill()\n",
        "!streamlit run app.py &> /content/log.txt &\n",
        "public_url = ngrok.connect(8501, \"http\")\n",
        "print(\"🌐 Open your app here:\", public_url)"
      ],
      "metadata": {
        "colab": {
          "base_uri": "https://localhost:8080/"
        },
        "id": "Nr23kJA5c4ml",
        "outputId": "a611b071-8049-4d4f-f75b-3b669a03bfc8"
      },
      "execution_count": null,
      "outputs": [
        {
          "output_type": "stream",
          "name": "stdout",
          "text": [
            "🌐 Open your app here: NgrokTunnel: \"https://b1aa-34-127-25-145.ngrok-free.app\" -> \"http://localhost:8501\"\n"
          ]
        }
      ]
    }
  ]
}